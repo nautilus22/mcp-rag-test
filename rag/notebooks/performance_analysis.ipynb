{
  "cells": [
    {
      "cell_type": "code",
      "execution_count": null,
      "metadata": {
        "vscode": {
          "languageId": "plaintext"
        }
      },
      "outputs": [],
      "source": [
        "# RAG 성능 분석 및 시각화\n",
        "\n",
        "이 노트북에서는 RAG 시스템의 성능 메트릭을 분석하고 시각화합니다.\n"
      ]
    }
  ],
  "metadata": {
    "language_info": {
      "name": "python"
    }
  },
  "nbformat": 4,
  "nbformat_minor": 2
}
